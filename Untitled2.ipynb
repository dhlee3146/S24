{
  "nbformat": 4,
  "nbformat_minor": 0,
  "metadata": {
    "colab": {
      "provenance": [],
      "authorship_tag": "ABX9TyNj/OjimjCi8XRxog7Ge/ZP",
      "include_colab_link": true
    },
    "kernelspec": {
      "name": "python3",
      "display_name": "Python 3"
    },
    "language_info": {
      "name": "python"
    }
  },
  "cells": [
    {
      "cell_type": "markdown",
      "metadata": {
        "id": "view-in-github",
        "colab_type": "text"
      },
      "source": [
        "<a href=\"https://colab.research.google.com/github/dhlee3146/S24/blob/main/Untitled2.ipynb\" target=\"_parent\"><img src=\"https://colab.research.google.com/assets/colab-badge.svg\" alt=\"Open In Colab\"/></a>"
      ]
    },
    {
      "cell_type": "markdown",
      "source": [
        "#20240408\n",
        "- 1. Test\n",
        "- 2. Text game (with chat GPT)"
      ],
      "metadata": {
        "id": "QCsWyoCGCeM1"
      }
    },
    {
      "cell_type": "code",
      "source": [
        "def make_questions(word1, word2):\n",
        "    result = f\"Is {word1} good for {word2}?\"\n",
        "    return result"
      ],
      "metadata": {
        "id": "tzOBY5Kb6w7k"
      },
      "execution_count": 9,
      "outputs": []
    },
    {
      "cell_type": "code",
      "source": [
        "make_questions(\"exercise\", \"children\")"
      ],
      "metadata": {
        "colab": {
          "base_uri": "https://localhost:8080/",
          "height": 35
        },
        "id": "Grn2D2p17_BC",
        "outputId": "4b0c7e02-e71e-4c98-c798-e9121b3b7395"
      },
      "execution_count": 10,
      "outputs": [
        {
          "output_type": "execute_result",
          "data": {
            "text/plain": [
              "'Is exercise good for children?'"
            ],
            "application/vnd.google.colaboratory.intrinsic+json": {
              "type": "string"
            }
          },
          "metadata": {},
          "execution_count": 10
        }
      ]
    },
    {
      "cell_type": "code",
      "source": [
        "#@markdown Text game (with chat GPT)\n",
        "def main():\n",
        "    print(\"You are going on a trip. Where do you want to go?\")\n",
        "    print(\"1. Forest.\")\n",
        "    print(\"2. Sea.\")\n",
        "    print(\"3. Big city.\")\n",
        "\n",
        "    choice = input(\"Enter a number: \")\n",
        "\n",
        "    if choice == \"1\":\n",
        "        print(\"You went to the forest. You were bitten by mosquitoes but had fun!\")\n",
        "    elif choice == \"2\":\n",
        "        print(\"You took close to 100 photos of the ocean. Among them, one photo posted on social media received a good response.\")\n",
        "    elif choice == \"3\":\n",
        "        print(\"You have come to a big city. Where should we visit?\")\n",
        "        print(\"A. Observatory\")\n",
        "        print(\"B. Casino\")\n",
        "        additional_choice = input(\"Enter A or B: \")\n",
        "        if additional_choice == \"A\":\n",
        "            print(\"You watched the sunset from the observatory. Your heart is touched.\")\n",
        "        elif additional_choice == \"B\":\n",
        "            print(\"You lost a lot of money. Wiping away tears, you take the bus home.\")\n",
        "        else:\n",
        "            print(\"Wrong answer.\")\n",
        "    else:\n",
        "        print(\"Wrong answer.\")\n",
        "\n",
        "if __name__ == \"__main__\":\n",
        "    main()"
      ],
      "metadata": {
        "colab": {
          "base_uri": "https://localhost:8080/"
        },
        "cellView": "form",
        "id": "G-Rea12Q9hlI",
        "outputId": "544d7f5c-c344-444f-e9e0-5c50e9936436"
      },
      "execution_count": 26,
      "outputs": [
        {
          "output_type": "stream",
          "name": "stdout",
          "text": [
            "You are going on a trip. Where do you want to go?\n",
            "1. Forest.\n",
            "2. Sea.\n",
            "3. Big city.\n",
            "Enter a number: 3\n",
            "You have come to a big city. Where should we visit?\n",
            "A. Observatory\n",
            "B. Casino\n",
            "Enter A or B: A\n",
            "You watched the sunset from the observatory. Your heart is touched.\n"
          ]
        }
      ]
    },
    {
      "cell_type": "markdown",
      "source": [],
      "metadata": {
        "id": "OyTYVrRXFEQm"
      }
    }
  ]
}